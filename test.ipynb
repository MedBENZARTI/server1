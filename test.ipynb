{
 "cells": [
  {
   "cell_type": "code",
   "execution_count": 2,
   "metadata": {},
   "outputs": [],
   "source": [
    "from datetime import datetime, timedelta, date\n",
    "from typing import Annotated, Union\n",
    "\n",
    "from fastapi import Depends, FastAPI, HTTPException, status\n",
    "from fastapi.security import OAuth2PasswordBearer, OAuth2PasswordRequestForm\n",
    "from passlib.context import CryptContext\n",
    "from pydantic import BaseModel, EmailStr\n",
    "from enum import Enum\n",
    "import psycopg2\n",
    "import pandas as pd"
   ]
  },
  {
   "cell_type": "code",
   "execution_count": 3,
   "metadata": {},
   "outputs": [],
   "source": [
    "DB_CON = {\n",
    "        \"host\"      : 'rds-ticket-app-prod.czgosi3nm3l7.eu-central-1.rds.amazonaws.com',\n",
    "        \"database\"  : 'public',\n",
    "        \"user\"      : 'ticketappuser',\n",
    "        \"password\"  : 'GA8yDbApaTthvqgH16V0jg==',\n",
    "        'port'      : '5432'\n",
    "    }\n",
    "\n",
    "def format_value_for_sql(value):\n",
    "    if value is None:\n",
    "        return \"NULL\"\n",
    "    elif isinstance(value, int):\n",
    "        return str(value)\n",
    "    elif isinstance(value, float):\n",
    "        return str(value)\n",
    "    elif isinstance(value, bool):\n",
    "        return str(int(value))  # Convert bool to 0 or 1\n",
    "    else:\n",
    "        # If the data type is not recognized, raise an error or handle it accordingly\n",
    "        return f\"\"\"'{str(value).replace(\"'\", \"''\")}'\"\"\"\n",
    "\n",
    "def read_data(sql):\n",
    "    conn = psycopg2.connect(**DB_CON)\n",
    "    cur = conn.cursor()\n",
    "    cur.execute(sql)\n",
    "    rows = cur.fetchall()\n",
    "    cols = [str(col[0]) for col in cur.description ]\n",
    "    conn.close()\n",
    "    return pd.DataFrame(rows, columns=cols)"
   ]
  },
  {
   "cell_type": "code",
   "execution_count": 4,
   "metadata": {},
   "outputs": [],
   "source": [
    "class Role(str, Enum):\n",
    "    admin = \"admin\"\n",
    "    user = \"user\"\n",
    "\n",
    "class User(BaseModel):\n",
    "    username: str\n",
    "    email: EmailStr\n",
    "    role: Role\n",
    "    name: Union[str, None] = None\n",
    "    disabled: Union[bool, None] = None"
   ]
  },
  {
   "cell_type": "code",
   "execution_count": 5,
   "metadata": {},
   "outputs": [
    {
     "data": {
      "text/plain": [
       "User(username='med', email='med@rebike.com', role=<Role.admin: 'admin'>, name='medd', disabled=False)"
      ]
     },
     "execution_count": 5,
     "metadata": {},
     "output_type": "execute_result"
    }
   ],
   "source": [
    "role = Role('admin')\n",
    "user = User(username='med', email='med@rebike.com', role=role, name='medd', disabled=False)\n",
    "user"
   ]
  },
  {
   "cell_type": "code",
   "execution_count": null,
   "metadata": {},
   "outputs": [],
   "source": [
    "import psycopg2\n",
    "\n",
    "try:\n",
    "    # Establish a connection to the database\n",
    "    conn = psycopg2.connect(database=\"your_database\", user=\"your_user\", password=\"your_password\", host=\"your_host\", port=\"your_port\")\n",
    "\n",
    "    # Create a cursor object to execute SQL queries\n",
    "    cursor = conn.cursor()\n",
    "\n",
    "    # Your SQL INSERT query with RETURNING clause\n",
    "    insert_query = \"INSERT INTO your_table (column1, column2) VALUES (%s, %s) RETURNING column1, column2, other_columns;\"\n",
    "\n",
    "    # Specify the values for the new record\n",
    "    values = ('value1', 'value2')\n",
    "\n",
    "    # Execute the INSERT query\n",
    "    cursor.execute(insert_query, values)\n",
    "\n",
    "    # Fetch the newly inserted row\n",
    "    new_row = cursor.fetchone()\n",
    "\n",
    "    # Commit the changes to the database\n",
    "    conn.commit()\n",
    "\n",
    "    # Close the cursor and connection\n",
    "    cursor.close()\n",
    "    conn.close()\n",
    "\n",
    "    # Now, new_row contains the values of the columns specified in the RETURNING clause\n",
    "    print(\"Newly inserted row:\", new_row)\n",
    "\n",
    "except psycopg2.Error as e:\n",
    "    # Handle the exception (print or log the error message, rollback changes, etc.)\n",
    "    print(\"Error:\", e)\n",
    "\n",
    "finally:\n",
    "    # Ensure that the connection is properly closed\n",
    "    if conn is not None:\n",
    "        conn.close()\n"
   ]
  },
  {
   "cell_type": "code",
   "execution_count": 14,
   "metadata": {},
   "outputs": [
    {
     "data": {
      "text/plain": [
       "'\\nInsert into users (\"username\", \"email\", \"role\", \"name\", \"password\", \"disabled\") values (%s, %s, %s, %s, %s, %s)\\nreturning *\\n'"
      ]
     },
     "execution_count": 14,
     "metadata": {},
     "output_type": "execute_result"
    }
   ],
   "source": [
    "obj = {\n",
    "        \"username\": 'usdsder11',\n",
    "        \"email\": 'user@email.com',\n",
    "        \"role\": 'user',\n",
    "        \"name\": 'new_user.name',\n",
    "        \"password\": 'pwd',\n",
    "        \"disabled\": False\n",
    "        }\n",
    "keys = ', '.join([f'\"{o}\"' for o in obj.keys()])\n",
    "tags = ', '.join(['%s' for i in obj.values()])\n",
    "sql = f\"\"\"\n",
    "Insert into users ({ keys }) values ({ tags })\n",
    "returning *\n",
    "\"\"\"\n",
    "sql"
   ]
  },
  {
   "cell_type": "code",
   "execution_count": 15,
   "metadata": {},
   "outputs": [],
   "source": [
    "conn = psycopg2.connect(**DB_CON)\n",
    "cur = conn.cursor()\n",
    "cur.execute(sql, list(obj.values()))\n",
    "conn.commit()"
   ]
  },
  {
   "cell_type": "code",
   "execution_count": 16,
   "metadata": {},
   "outputs": [],
   "source": []
  },
  {
   "cell_type": "code",
   "execution_count": 18,
   "metadata": {},
   "outputs": [
    {
     "data": {
      "text/plain": [
       "{'id': 15,\n",
       " 'username': 'usdsder11',\n",
       " 'email': 'user@email.com',\n",
       " 'password': 'pwd',\n",
       " 'role': 'user',\n",
       " 'name': 'new_user.name',\n",
       " 'disabled': False}"
      ]
     },
     "execution_count": 18,
     "metadata": {},
     "output_type": "execute_result"
    }
   ],
   "source": []
  },
  {
   "cell_type": "code",
   "execution_count": 53,
   "metadata": {},
   "outputs": [],
   "source": [
    "\n"
   ]
  }
 ],
 "metadata": {
  "kernelspec": {
   "display_name": "Python 3",
   "language": "python",
   "name": "python3"
  },
  "language_info": {
   "codemirror_mode": {
    "name": "ipython",
    "version": 3
   },
   "file_extension": ".py",
   "mimetype": "text/x-python",
   "name": "python",
   "nbconvert_exporter": "python",
   "pygments_lexer": "ipython3",
   "version": "3.10.5"
  },
  "orig_nbformat": 4
 },
 "nbformat": 4,
 "nbformat_minor": 2
}
