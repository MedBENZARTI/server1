{
 "cells": [
  {
   "cell_type": "code",
   "execution_count": 2,
   "metadata": {},
   "outputs": [],
   "source": [
    "from datetime import datetime, timedelta, date\n",
    "from typing import Annotated, Union\n",
    "\n",
    "from fastapi import Depends, FastAPI, HTTPException, status\n",
    "from fastapi.security import OAuth2PasswordBearer, OAuth2PasswordRequestForm\n",
    "from passlib.context import CryptContext\n",
    "from pydantic import BaseModel, EmailStr\n",
    "from enum import Enum\n",
    "import psycopg2\n",
    "import pandas as pd"
   ]
  },
  {
   "cell_type": "code",
   "execution_count": 3,
   "metadata": {},
   "outputs": [],
   "source": [
    "DB_CON = {\n",
    "        \"host\"      : 'rds-ticket-app-prod.czgosi3nm3l7.eu-central-1.rds.amazonaws.com',\n",
    "        \"database\"  : 'public',\n",
    "        \"user\"      : 'ticketappuser',\n",
    "        \"password\"  : 'GA8yDbApaTthvqgH16V0jg==',\n",
    "        'port'      : '5432'\n",
    "    }\n",
    "\n",
    "def format_value_for_sql(value):\n",
    "    if value is None:\n",
    "        return \"NULL\"\n",
    "    elif isinstance(value, int):\n",
    "        return str(value)\n",
    "    elif isinstance(value, float):\n",
    "        return str(value)\n",
    "    elif isinstance(value, bool):\n",
    "        return str(int(value))  # Convert bool to 0 or 1\n",
    "    else:\n",
    "        # If the data type is not recognized, raise an error or handle it accordingly\n",
    "        return f\"\"\"'{str(value).replace(\"'\", \"''\")}'\"\"\"\n",
    "\n",
    "def read_data(sql):\n",
    "    conn = psycopg2.connect(**DB_CON)\n",
    "    cur = conn.cursor()\n",
    "    cur.execute(sql)\n",
    "    rows = cur.fetchall()\n",
    "    cols = [str(col[0]) for col in cur.description ]\n",
    "    conn.close()\n",
    "    return pd.DataFrame(rows, columns=cols)"
   ]
  },
  {
   "cell_type": "code",
   "execution_count": 4,
   "metadata": {},
   "outputs": [],
   "source": [
    "class Role(str, Enum):\n",
    "    admin = \"admin\"\n",
    "    user = \"user\"\n",
    "\n",
    "class User(BaseModel):\n",
    "    username: str\n",
    "    email: EmailStr\n",
    "    role: Role\n",
    "    name: Union[str, None] = None\n",
    "    disabled: Union[bool, None] = None"
   ]
  },
  {
   "cell_type": "code",
   "execution_count": 5,
   "metadata": {},
   "outputs": [
    {
     "data": {
      "text/plain": [
       "User(username='med', email='med@rebike.com', role=<Role.admin: 'admin'>, name='medd', disabled=False)"
      ]
     },
     "execution_count": 5,
     "metadata": {},
     "output_type": "execute_result"
    }
   ],
   "source": [
    "role = Role('admin')\n",
    "user = User(username='med', email='med@rebike.com', role=role, name='medd', disabled=False)\n",
    "user"
   ]
  },
  {
   "cell_type": "code",
   "execution_count": null,
   "metadata": {},
   "outputs": [],
   "source": [
    "import psycopg2\n",
    "\n",
    "try:\n",
    "    # Establish a connection to the database\n",
    "    conn = psycopg2.connect(database=\"your_database\", user=\"your_user\", password=\"your_password\", host=\"your_host\", port=\"your_port\")\n",
    "\n",
    "    # Create a cursor object to execute SQL queries\n",
    "    cursor = conn.cursor()\n",
    "\n",
    "    # Your SQL INSERT query with RETURNING clause\n",
    "    insert_query = \"INSERT INTO your_table (column1, column2) VALUES (%s, %s) RETURNING column1, column2, other_columns;\"\n",
    "\n",
    "    # Specify the values for the new record\n",
    "    values = ('value1', 'value2')\n",
    "\n",
    "    # Execute the INSERT query\n",
    "    cursor.execute(insert_query, values)\n",
    "\n",
    "    # Fetch the newly inserted row\n",
    "    new_row = cursor.fetchone()\n",
    "\n",
    "    # Commit the changes to the database\n",
    "    conn.commit()\n",
    "\n",
    "    # Close the cursor and connection\n",
    "    cursor.close()\n",
    "    conn.close()\n",
    "\n",
    "    # Now, new_row contains the values of the columns specified in the RETURNING clause\n",
    "    print(\"Newly inserted row:\", new_row)\n",
    "\n",
    "except psycopg2.Error as e:\n",
    "    # Handle the exception (print or log the error message, rollback changes, etc.)\n",
    "    print(\"Error:\", e)\n",
    "\n",
    "finally:\n",
    "    # Ensure that the connection is properly closed\n",
    "    if conn is not None:\n",
    "        conn.close()\n"
   ]
  },
  {
   "cell_type": "code",
   "execution_count": 30,
   "metadata": {},
   "outputs": [
    {
     "data": {
      "text/plain": [
       "b'\\nInsert into users (\"username\", \"email\", \"role\", \"name\", \"password\", \"disabled\") values (%s, %s, %s, %s, %s, %s)\\nreturning *\\n'"
      ]
     },
     "execution_count": 30,
     "metadata": {},
     "output_type": "execute_result"
    }
   ],
   "source": [
    "\n",
    "cur.executemany(sql, values)\n",
    "conn.commit()\n",
    "obj = [{\n",
    "        \"username\": 'usdsder11',\n",
    "        \"email\": 'user@email.com',\n",
    "        \"role\": 'user',\n",
    "        \"name\": 'new_user.name',\n",
    "        \"password\": 'pwd',\n",
    "        \"disabled\": False\n",
    "        },\n",
    "        {\n",
    "        \"username\": 'usdsdedddwr11',\n",
    "        \"email\": 'user@email.com',\n",
    "        \"role\": 'user',\n",
    "        \"name\": 'new_user.name',\n",
    "        \"password\": 'pwd',\n",
    "        \"disabled\": False\n",
    "        }]\n",
    "keys = ', '.join([f'\"{o}\"' for o in obj[0].keys()])\n",
    "tags = ', '.join(['%s' for i in obj[0].values()])\n"
   ]
  },
  {
   "cell_type": "code",
   "execution_count": 37,
   "metadata": {},
   "outputs": [],
   "source": [
    "conn = psycopg2.connect(**DB_CON)\n",
    "cur = conn.cursor()\n",
    "def insert_many(table: str, id_column: str, values: list):\n",
    "    if not values:\n",
    "        return []\n",
    "\n",
    "    keys = values[0].keys()\n",
    "    query = cur.mogrify(\"INSERT INTO {} ({}) VALUES {} RETURNING {}\".format(\n",
    "            table,\n",
    "            ', '.join(keys),\n",
    "            ', '.join(['%s'] * len(values)),\n",
    "            id_column\n",
    "        ), [tuple(v.values()) for v in values])\n",
    "    cur.execute(query)\n",
    "    cols = [str(col[0]) for col in cur.description ]\n",
    "    values = cur.fetchall()\n",
    "    return  [dict(zip(cols,val)) for val in values]"
   ]
  },
  {
   "cell_type": "code",
   "execution_count": 38,
   "metadata": {},
   "outputs": [
    {
     "data": {
      "text/plain": [
       "[{'id': 23,\n",
       "  'username': 'usdsder11',\n",
       "  'email': 'user@email.com',\n",
       "  'password': 'pwd',\n",
       "  'role': 'user',\n",
       "  'name': 'new_user.name',\n",
       "  'disabled': False},\n",
       " {'id': 24,\n",
       "  'username': 'usdsdedddwr11',\n",
       "  'email': 'user@email.com',\n",
       "  'password': 'pwd',\n",
       "  'role': 'user',\n",
       "  'name': 'new_user.name',\n",
       "  'disabled': False}]"
      ]
     },
     "execution_count": 38,
     "metadata": {},
     "output_type": "execute_result"
    }
   ],
   "source": [
    "insert_many('users', '*', obj)"
   ]
  },
  {
   "cell_type": "code",
   "execution_count": 26,
   "metadata": {},
   "outputs": [],
   "source": []
  },
  {
   "cell_type": "code",
   "execution_count": 28,
   "metadata": {},
   "outputs": [
    {
     "ename": "ProgrammingError",
     "evalue": "no results to fetch",
     "output_type": "error",
     "traceback": [
      "\u001b[1;31m---------------------------------------------------------------------------\u001b[0m",
      "\u001b[1;31mProgrammingError\u001b[0m                          Traceback (most recent call last)",
      "\u001b[1;32mc:\\Users\\mohamed benzarti\\Desktop\\server\\server1\\test.ipynb Cell 9\u001b[0m line \u001b[0;36m<cell line: 1>\u001b[1;34m()\u001b[0m\n\u001b[1;32m----> <a href='vscode-notebook-cell:/c%3A/Users/mohamed%20benzarti/Desktop/server/server1/test.ipynb#X14sZmlsZQ%3D%3D?line=0'>1</a>\u001b[0m vals \u001b[39m=\u001b[39m cur\u001b[39m.\u001b[39;49mfetchone()\n",
      "\u001b[1;31mProgrammingError\u001b[0m: no results to fetch"
     ]
    }
   ],
   "source": [
    "vals = cur.fetchone()"
   ]
  },
  {
   "cell_type": "code",
   "execution_count": 18,
   "metadata": {},
   "outputs": [
    {
     "data": {
      "text/plain": [
       "{'id': 15,\n",
       " 'username': 'usdsder11',\n",
       " 'email': 'user@email.com',\n",
       " 'password': 'pwd',\n",
       " 'role': 'user',\n",
       " 'name': 'new_user.name',\n",
       " 'disabled': False}"
      ]
     },
     "execution_count": 18,
     "metadata": {},
     "output_type": "execute_result"
    }
   ],
   "source": []
  },
  {
   "cell_type": "code",
   "execution_count": 57,
   "metadata": {},
   "outputs": [],
   "source": [
    "def update_one(id, id_col, obj, table):\n",
    "    try:\n",
    "        conn = psycopg2.connect(**DB_CON)\n",
    "        cur = conn.cursor()\n",
    "        obj = {\n",
    "                \"username\": 'hacked',\n",
    "                \"email\": 'hacked@email.com',\n",
    "                \"role\": 'user',\n",
    "                \"name\": 'hacked',\n",
    "                \"password\": 'hacked',\n",
    "                \"disabled\": True\n",
    "                }\n",
    "        returns = ', '.join([f'\"{o}\"' for o in obj.keys()])\n",
    "        to_update = ',\\n'.join([f'''\"{k}\"=%s''' for k in obj])\n",
    "        values = list(obj.values()) + [id]\n",
    "        sql = f\"\"\"\n",
    "        UPDATE {table} SET\n",
    "        {to_update}\n",
    "        where \"{id_col}\" = %s\n",
    "        returning {returns}\n",
    "        \"\"\"\n",
    "        print(sql)\n",
    "        cur.execute(sql, values)\n",
    "        cols = [str(col[0]) for col in cur.description ]\n",
    "        vals = cur.fetchone()\n",
    "        conn.commit()\n",
    "        cur.close()\n",
    "        conn.close()\n",
    "        return dict(zip(cols, vals))\n",
    "    except (psycopg2.Error) as error:\n",
    "        print(error)\n",
    "        cur.close()\n",
    "        conn.close()\n",
    "        return False"
   ]
  },
  {
   "cell_type": "code",
   "execution_count": 58,
   "metadata": {},
   "outputs": [
    {
     "name": "stdout",
     "output_type": "stream",
     "text": [
      "\n",
      "        UPDATE users SET\n",
      "        \"username\"=%s,\n",
      "\"email\"=%s,\n",
      "\"role\"=%s,\n",
      "\"name\"=%s,\n",
      "\"password\"=%s,\n",
      "\"disabled\"=%s\n",
      "        where \"id\" = %s\n",
      "        returning \"username\", \"email\", \"role\", \"name\", \"password\", \"disabled\"\n",
      "        \n",
      "{'username': 'hacked', 'email': 'hacked@email.com', 'role': 'user', 'name': 'hacked', 'password': 'hacked', 'disabled': True}\n"
     ]
    }
   ],
   "source": [
    "obj = {\n",
    "        \"username\": 'hacked',\n",
    "        \"email\": 'hacked@email.com',\n",
    "        # \"role\": 'user',\n",
    "        # \"name\": 'hacked',\n",
    "        # \"password\": 'hacked',\n",
    "        # \"disabled\": True\n",
    "        }\n",
    "a = update_one(17, 'id', obj, 'users')\n",
    "print(a)"
   ]
  },
  {
   "cell_type": "code",
   "execution_count": 45,
   "metadata": {},
   "outputs": [
    {
     "name": "stdout",
     "output_type": "stream",
     "text": [
      "\n",
      "UPDATE users SET\n",
      "\"username\"=%s,\n",
      "\"email\"=%s,\n",
      "\"role\"=%s,\n",
      "\"name\"=%s,\n",
      "\"password\"=%s,\n",
      "\"disabled\"=%s\n",
      "where \"processId\" = %s\n",
      "returning \"username\", \"email\", \"role\", \"name\", \"password\", \"disabled\"\n",
      "\n"
     ]
    }
   ],
   "source": [
    "\n",
    "\n",
    "table = 'users'\n",
    "id_col = 'processId'\n",
    "returns = ', '.join([f'\"{o}\"' for o in obj.keys()])\n",
    "to_update = ',\\n'.join([f'''\"{k}\"=%s''' for k in obj])\n",
    "\n",
    "sql = f\"\"\"\n",
    "UPDATE {table} SET\n",
    "{to_update}\n",
    "where \"{id_col}\" = %s\n",
    "returning {returns}\n",
    "\"\"\"\n",
    "print(sql)"
   ]
  }
 ],
 "metadata": {
  "kernelspec": {
   "display_name": "Python 3",
   "language": "python",
   "name": "python3"
  },
  "language_info": {
   "codemirror_mode": {
    "name": "ipython",
    "version": 3
   },
   "file_extension": ".py",
   "mimetype": "text/x-python",
   "name": "python",
   "nbconvert_exporter": "python",
   "pygments_lexer": "ipython3",
   "version": "3.10.5"
  },
  "orig_nbformat": 4
 },
 "nbformat": 4,
 "nbformat_minor": 2
}
