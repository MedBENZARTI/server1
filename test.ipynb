{
 "cells": [
  {
   "cell_type": "code",
   "execution_count": 2,
   "metadata": {},
   "outputs": [],
   "source": [
    "from datetime import datetime, timedelta, date\n",
    "from typing import Annotated, Union\n",
    "\n",
    "from fastapi import Depends, FastAPI, HTTPException, status\n",
    "from fastapi.security import OAuth2PasswordBearer, OAuth2PasswordRequestForm\n",
    "from passlib.context import CryptContext\n",
    "from pydantic import BaseModel, EmailStr\n",
    "from enum import Enum\n",
    "import psycopg2\n",
    "import pandas as pd"
   ]
  },
  {
   "cell_type": "code",
   "execution_count": 3,
   "metadata": {},
   "outputs": [],
   "source": [
    "DB_CON = {\n",
    "        \"host\"      : 'rds-ticket-app-prod.czgosi3nm3l7.eu-central-1.rds.amazonaws.com',\n",
    "        \"database\"  : 'public',\n",
    "        \"user\"      : 'ticketappuser',\n",
    "        \"password\"  : 'GA8yDbApaTthvqgH16V0jg==',\n",
    "        'port'      : '5432'\n",
    "    }\n",
    "\n",
    "def format_value_for_sql(value):\n",
    "    if value is None:\n",
    "        return \"NULL\"\n",
    "    elif isinstance(value, int):\n",
    "        return str(value)\n",
    "    elif isinstance(value, float):\n",
    "        return str(value)\n",
    "    elif isinstance(value, bool):\n",
    "        return str(int(value))  # Convert bool to 0 or 1\n",
    "    else:\n",
    "        # If the data type is not recognized, raise an error or handle it accordingly\n",
    "        return f\"\"\"'{str(value).replace(\"'\", \"''\")}'\"\"\"\n",
    "\n",
    "def read_data(sql):\n",
    "    conn = psycopg2.connect(**DB_CON)\n",
    "    cur = conn.cursor()\n",
    "    cur.execute(sql)\n",
    "    rows = cur.fetchall()\n",
    "    cols = [str(col[0]) for col in cur.description ]\n",
    "    conn.close()\n",
    "    return pd.DataFrame(rows, columns=cols)"
   ]
  },
  {
   "cell_type": "code",
   "execution_count": 4,
   "metadata": {},
   "outputs": [],
   "source": [
    "class Role(str, Enum):\n",
    "    admin = \"admin\"\n",
    "    user = \"user\"\n",
    "\n",
    "class User(BaseModel):\n",
    "    username: str\n",
    "    email: EmailStr\n",
    "    role: Role\n",
    "    name: Union[str, None] = None\n",
    "    disabled: Union[bool, None] = None"
   ]
  },
  {
   "cell_type": "code",
   "execution_count": 5,
   "metadata": {},
   "outputs": [
    {
     "data": {
      "text/plain": [
       "User(username='med', email='med@rebike.com', role=<Role.admin: 'admin'>, name='medd', disabled=False)"
      ]
     },
     "execution_count": 5,
     "metadata": {},
     "output_type": "execute_result"
    }
   ],
   "source": [
    "role = Role('admin')\n",
    "user = User(username='med', email='med@rebike.com', role=role, name='medd', disabled=False)\n",
    "user"
   ]
  },
  {
   "cell_type": "code",
   "execution_count": null,
   "metadata": {},
   "outputs": [],
   "source": [
    "import psycopg2\n",
    "\n",
    "try:\n",
    "    # Establish a connection to the database\n",
    "    conn = psycopg2.connect(database=\"your_database\", user=\"your_user\", password=\"your_password\", host=\"your_host\", port=\"your_port\")\n",
    "\n",
    "    # Create a cursor object to execute SQL queries\n",
    "    cursor = conn.cursor()\n",
    "\n",
    "    # Your SQL INSERT query with RETURNING clause\n",
    "    insert_query = \"INSERT INTO your_table (column1, column2) VALUES (%s, %s) RETURNING column1, column2, other_columns;\"\n",
    "\n",
    "    # Specify the values for the new record\n",
    "    values = ('value1', 'value2')\n",
    "\n",
    "    # Execute the INSERT query\n",
    "    cursor.execute(insert_query, values)\n",
    "\n",
    "    # Fetch the newly inserted row\n",
    "    new_row = cursor.fetchone()\n",
    "\n",
    "    # Commit the changes to the database\n",
    "    conn.commit()\n",
    "\n",
    "    # Close the cursor and connection\n",
    "    cursor.close()\n",
    "    conn.close()\n",
    "\n",
    "    # Now, new_row contains the values of the columns specified in the RETURNING clause\n",
    "    print(\"Newly inserted row:\", new_row)\n",
    "\n",
    "except psycopg2.Error as e:\n",
    "    # Handle the exception (print or log the error message, rollback changes, etc.)\n",
    "    print(\"Error:\", e)\n",
    "\n",
    "finally:\n",
    "    # Ensure that the connection is properly closed\n",
    "    if conn is not None:\n",
    "        conn.close()\n"
   ]
  },
  {
   "cell_type": "code",
   "execution_count": 30,
   "metadata": {},
   "outputs": [
    {
     "data": {
      "text/plain": [
       "b'\\nInsert into users (\"username\", \"email\", \"role\", \"name\", \"password\", \"disabled\") values (%s, %s, %s, %s, %s, %s)\\nreturning *\\n'"
      ]
     },
     "execution_count": 30,
     "metadata": {},
     "output_type": "execute_result"
    }
   ],
   "source": [
    "\n",
    "cur.executemany(sql, values)\n",
    "conn.commit()\n",
    "obj = [{\n",
    "        \"username\": 'usdsder11',\n",
    "        \"email\": 'user@email.com',\n",
    "        \"role\": 'user',\n",
    "        \"name\": 'new_user.name',\n",
    "        \"password\": 'pwd',\n",
    "        \"disabled\": False\n",
    "        },\n",
    "        {\n",
    "        \"username\": 'usdsdedddwr11',\n",
    "        \"email\": 'user@email.com',\n",
    "        \"role\": 'user',\n",
    "        \"name\": 'new_user.name',\n",
    "        \"password\": 'pwd',\n",
    "        \"disabled\": False\n",
    "        }]\n",
    "keys = ', '.join([f'\"{o}\"' for o in obj[0].keys()])\n",
    "tags = ', '.join(['%s' for i in obj[0].values()])\n"
   ]
  },
  {
   "cell_type": "code",
   "execution_count": 37,
   "metadata": {},
   "outputs": [],
   "source": [
    "conn = psycopg2.connect(**DB_CON)\n",
    "cur = conn.cursor()\n",
    "def insert_many(table: str, id_column: str, values: list):\n",
    "    if not values:\n",
    "        return []\n",
    "\n",
    "    keys = values[0].keys()\n",
    "    query = cur.mogrify(\"INSERT INTO {} ({}) VALUES {} RETURNING {}\".format(\n",
    "            table,\n",
    "            ', '.join(keys),\n",
    "            ', '.join(['%s'] * len(values)),\n",
    "            id_column\n",
    "        ), [tuple(v.values()) for v in values])\n",
    "    cur.execute(query)\n",
    "    cols = [str(col[0]) for col in cur.description ]\n",
    "    values = cur.fetchall()\n",
    "    return  [dict(zip(cols,val)) for val in values]"
   ]
  },
  {
   "cell_type": "code",
   "execution_count": 38,
   "metadata": {},
   "outputs": [
    {
     "data": {
      "text/plain": [
       "[{'id': 23,\n",
       "  'username': 'usdsder11',\n",
       "  'email': 'user@email.com',\n",
       "  'password': 'pwd',\n",
       "  'role': 'user',\n",
       "  'name': 'new_user.name',\n",
       "  'disabled': False},\n",
       " {'id': 24,\n",
       "  'username': 'usdsdedddwr11',\n",
       "  'email': 'user@email.com',\n",
       "  'password': 'pwd',\n",
       "  'role': 'user',\n",
       "  'name': 'new_user.name',\n",
       "  'disabled': False}]"
      ]
     },
     "execution_count": 38,
     "metadata": {},
     "output_type": "execute_result"
    }
   ],
   "source": [
    "insert_many('users', '*', obj)"
   ]
  },
  {
   "cell_type": "code",
   "execution_count": 26,
   "metadata": {},
   "outputs": [],
   "source": []
  },
  {
   "cell_type": "code",
   "execution_count": 28,
   "metadata": {},
   "outputs": [
    {
     "ename": "ProgrammingError",
     "evalue": "no results to fetch",
     "output_type": "error",
     "traceback": [
      "\u001b[1;31m---------------------------------------------------------------------------\u001b[0m",
      "\u001b[1;31mProgrammingError\u001b[0m                          Traceback (most recent call last)",
      "\u001b[1;32mc:\\Users\\mohamed benzarti\\Desktop\\server\\server1\\test.ipynb Cell 9\u001b[0m line \u001b[0;36m<cell line: 1>\u001b[1;34m()\u001b[0m\n\u001b[1;32m----> <a href='vscode-notebook-cell:/c%3A/Users/mohamed%20benzarti/Desktop/server/server1/test.ipynb#X14sZmlsZQ%3D%3D?line=0'>1</a>\u001b[0m vals \u001b[39m=\u001b[39m cur\u001b[39m.\u001b[39;49mfetchone()\n",
      "\u001b[1;31mProgrammingError\u001b[0m: no results to fetch"
     ]
    }
   ],
   "source": [
    "vals = cur.fetchone()"
   ]
  },
  {
   "cell_type": "code",
   "execution_count": 18,
   "metadata": {},
   "outputs": [
    {
     "data": {
      "text/plain": [
       "{'id': 15,\n",
       " 'username': 'usdsder11',\n",
       " 'email': 'user@email.com',\n",
       " 'password': 'pwd',\n",
       " 'role': 'user',\n",
       " 'name': 'new_user.name',\n",
       " 'disabled': False}"
      ]
     },
     "execution_count": 18,
     "metadata": {},
     "output_type": "execute_result"
    }
   ],
   "source": []
  },
  {
   "cell_type": "code",
   "execution_count": 57,
   "metadata": {},
   "outputs": [],
   "source": [
    "def update_one(id, id_col, obj, table):\n",
    "    try:\n",
    "        conn = psycopg2.connect(**DB_CON)\n",
    "        cur = conn.cursor()\n",
    "        obj = {\n",
    "                \"username\": 'hacked',\n",
    "                \"email\": 'hacked@email.com',\n",
    "                \"role\": 'user',\n",
    "                \"name\": 'hacked',\n",
    "                \"password\": 'hacked',\n",
    "                \"disabled\": True\n",
    "                }\n",
    "        returns = ', '.join([f'\"{o}\"' for o in obj.keys()])\n",
    "        to_update = ',\\n'.join([f'''\"{k}\"=%s''' for k in obj])\n",
    "        values = list(obj.values()) + [id]\n",
    "        sql = f\"\"\"\n",
    "        UPDATE {table} SET\n",
    "        {to_update}\n",
    "        where \"{id_col}\" = %s\n",
    "        returning {returns}\n",
    "        \"\"\"\n",
    "        print(sql)\n",
    "        cur.execute(sql, values)\n",
    "        cols = [str(col[0]) for col in cur.description ]\n",
    "        vals = cur.fetchone()\n",
    "        conn.commit()\n",
    "        cur.close()\n",
    "        conn.close()\n",
    "        return dict(zip(cols, vals))\n",
    "    except (psycopg2.Error) as error:\n",
    "        print(error)\n",
    "        cur.close()\n",
    "        conn.close()\n",
    "        return False"
   ]
  },
  {
   "cell_type": "code",
   "execution_count": 58,
   "metadata": {},
   "outputs": [
    {
     "name": "stdout",
     "output_type": "stream",
     "text": [
      "\n",
      "        UPDATE users SET\n",
      "        \"username\"=%s,\n",
      "\"email\"=%s,\n",
      "\"role\"=%s,\n",
      "\"name\"=%s,\n",
      "\"password\"=%s,\n",
      "\"disabled\"=%s\n",
      "        where \"id\" = %s\n",
      "        returning \"username\", \"email\", \"role\", \"name\", \"password\", \"disabled\"\n",
      "        \n",
      "{'username': 'hacked', 'email': 'hacked@email.com', 'role': 'user', 'name': 'hacked', 'password': 'hacked', 'disabled': True}\n"
     ]
    }
   ],
   "source": [
    "obj = {\n",
    "        \"username\": 'hacked',\n",
    "        \"email\": 'hacked@email.com',\n",
    "        # \"role\": 'user',\n",
    "        # \"name\": 'hacked',\n",
    "        # \"password\": 'hacked',\n",
    "        # \"disabled\": True\n",
    "        }\n",
    "a = update_one(17, 'id', obj, 'users')\n",
    "print(a)"
   ]
  },
  {
   "cell_type": "code",
   "execution_count": 45,
   "metadata": {},
   "outputs": [
    {
     "name": "stdout",
     "output_type": "stream",
     "text": [
      "\n",
      "UPDATE users SET\n",
      "\"username\"=%s,\n",
      "\"email\"=%s,\n",
      "\"role\"=%s,\n",
      "\"name\"=%s,\n",
      "\"password\"=%s,\n",
      "\"disabled\"=%s\n",
      "where \"processId\" = %s\n",
      "returning \"username\", \"email\", \"role\", \"name\", \"password\", \"disabled\"\n",
      "\n"
     ]
    }
   ],
   "source": [
    "\n",
    "\n",
    "table = 'users'\n",
    "id_col = 'processId'\n",
    "returns = ', '.join([f'\"{o}\"' for o in obj.keys()])\n",
    "to_update = ',\\n'.join([f'''\"{k}\"=%s''' for k in obj])\n",
    "\n",
    "sql = f\"\"\"\n",
    "UPDATE {table} SET\n",
    "{to_update}\n",
    "where \"{id_col}\" = %s\n",
    "returning {returns}\n",
    "\"\"\"\n",
    "print(sql)"
   ]
  },
  {
   "cell_type": "code",
   "execution_count": 64,
   "metadata": {},
   "outputs": [],
   "source": [
    "from typing import Annotated, Union, List\n",
    "class User(BaseModel):\n",
    "    username: str\n",
    "    email: EmailStr\n",
    "    role: str # Role\n",
    "    name: Union[str, None] = None\n",
    "    disabled: Union[bool, None] = None\n",
    "\n",
    "class Gender(str, Enum):\n",
    "    Mr = \"Mr\"\n",
    "    Mrs = \"Mrs\"\n",
    "    Other = \"Other\"\n",
    "\n",
    "\n",
    "class Status(str, Enum):\n",
    "    Open = 'Open'\n",
    "    Paid = 'Paid'\n",
    "    Invoiced = 'Invoiced'\n",
    "    Completed = 'Completed'\n",
    "    Waiting = 'Waiting'\n",
    "    ReadyToInvoice = 'ReadyToInvoice'\n",
    "    InboundCheck = 'InboundCheck'\n",
    "    Received = 'Received'\n",
    "    PickedUp = 'PickedUp'\n",
    "    InPickUp = 'InPickUp'\n",
    "    Avis = 'Avis'\n",
    "    Canceled = 'Canceled'\n",
    "    Reapply = 'Reapply'\n",
    "    PickUpFailed = 'PickUpFailed'\n",
    "\n",
    "\n",
    "class PickUpLogistics(str, Enum):\n",
    "    Wiechert = 'Wiechert'\n",
    "    Emons = 'Emons'\n",
    "    Gaehler = 'Gaehler'\n",
    "    Alltrans = 'Alltrans'\n",
    "\n",
    "class Bike(str, Enum):\n",
    "    Bicycle = 'Bicycle'\n",
    "    Pedelec = 'Pedelec'\n",
    "    Other = 'Other'\n",
    "\n",
    "class Color(str, Enum):\n",
    "    Yellow = 'Yellow'\n",
    "    Gold = 'Gold'\n",
    "    Organe = 'Organe'\n",
    "    Red = 'Red'\n",
    "    Pink = 'Pink'\n",
    "    Purple = 'Purple'\n",
    "    Blue = 'Blue'\n",
    "    Turquoise = 'Turquoise'\n",
    "    Green = 'Green'\n",
    "    Grey = 'Grey'\n",
    "    Brown = 'Brown'\n",
    "    Copper = 'Copper'\n",
    "    White = 'White'\n",
    "    Black = 'Black'\n",
    "    Silver = 'Silver'\n",
    "    Multicolor = 'Multicolor'\n",
    "\n",
    "class communicationError(str, Enum):\n",
    "    Bounced = 'Bounced'\n",
    "    IncorrectPhone = 'IncorrectPhone'\n",
    "    none = 'None'\n",
    "\n",
    "class userRole(str, Enum):\n",
    "    BackendUserLeasing = 'BackendUserLeasing'\n",
    "    FrontUser = 'FrontUser'\n",
    "    SuperBackendUser = 'SuperBackendUser'\n",
    "    BackendUserCustomerCare = 'BackendUserCustomerCare'\n",
    "    BackendUserLogisticsWI = 'BackendUserLogisticsWI'\n",
    "    BackendUserLogisticsEM = 'BackendUserLogisticsEM'\n",
    "    BackendUserLogisticsGA = 'BackendUserLogisticsGA'\n",
    "    BackendUserLogisticsAT = 'BackendUserLogisticsAT'\n",
    "\n",
    "class FormsToUpdate(BaseModel):\n",
    "    # mandatory\n",
    "    processIds: List[int]\n",
    "    userFirstName: Union[str, None] = None\n",
    "    userLastName: Union[str, None] = None \n",
    "    userEmail: Union[EmailStr, None] = None \n",
    "    userTelephone: Union[str, None] = None \n",
    "    userStreet: Union[str, None] = None \n",
    "    userHouseNumber: Union[str, None] = None \n",
    "    userZipCode: Union[str, None] = None \n",
    "    userCity: Union[str, None] = None \n",
    "    userCountry: Union[str, None] = None \n",
    "    bikeBrand: Union[str, None] = None \n",
    "    bikeModel: Union[str, None] = None \n",
    "    bikeRrp: Union[float, None] = None \n",
    "    bikeAccessories: Union[str, None] = None \n",
    "    bikeFrameNumber: Union[str, None] = None \n",
    "    contractStartDate: Union[date, None] = None \n",
    "    contractAmount: Union[float, None] = None \n",
    "    # optional\n",
    "    pickDate: Union[date, None] = None\n",
    "    bikeSize: Union[str, None] = None\n",
    "    bikeId: Union[int, None] = None\n",
    "    contractSettlementPrice: Union[float, None] = None\n",
    "    contractSettlementDate: Union[date, None] = None\n",
    "    status: Union[Status, None] = None\n",
    "    pickUpLogistics: Union[PickUpLogistics, None] = None\n",
    "    statusComment: Union[str, None] = None\n",
    "    contractNumber: Union[str, None] = None\n",
    "    pickUpFeedback: Union[str, None] = None\n",
    "    bikeAdditionalText: Union[str, None] = None\n",
    "    bikeBatteryNumber: Union[str, None] = None\n",
    "    bikeColor: Union[Color, None] = None\n",
    "    bikeKind: Union[str, None] = None\n",
    "    bikeModelYear: Union[int, None] = None\n",
    "    bikeOriginalPurchasePrice: Union[float, None] = None\n",
    "    bikeOriginalPurchasePriceNet: Union[float, None] = None\n",
    "    bikeUser: Union[str, None] = None\n",
    "    contractAttachment: Union[str, None] = None\n",
    "    contractCommunicationError: Union[communicationError, None] = None\n",
    "    contractConditionBasedReduction: Union[float, None] = None\n",
    "    contractDeliveryInformation: Union[str, None] = None\n",
    "    contractPartsBasedReduction: Union[float, None] = None\n",
    "    contractPartsMissing: Union[str, None] = None\n",
    "    contractSentToLogistics: Union[bool, None] = None\n",
    "    contractStateChangedDate: Union[date, None] = None\n",
    "    contractSubmitDate: Union[date, None] = None\n",
    "    pickContractReceived: Union[bool, None] = None\n",
    "    pickEarliest: Union[date, None] = None\n",
    "    pickTimeFrom: Union[str, None] = None\n",
    "    pickTimeTill: Union[str, None] = None\n",
    "    pickUpOkay: Union[bool, None] = None\n",
    "    userCompany: Union[str, None] = None\n",
    "    userDeviatingPickup: Union[bool, None] = None\n",
    "    userDeviatingPickupAddress: Union[str, None] = None\n",
    "    # userEmailId: Union[str, None] = None\n",
    "    userFederalState: Union[str, None] = None\n",
    "    userFunction: Union[str, None] = None\n",
    "    userGender: Union[Gender, None] = None\n",
    "    userMobilePhone: Union[str, None] = None\n",
    "    bikeType: Union[Bike, None] = None"
   ]
  },
  {
   "cell_type": "code",
   "execution_count": 67,
   "metadata": {},
   "outputs": [
    {
     "data": {
      "text/plain": [
       "FormsToUpdate(processIds=[1, 2, 3], userFirstName='med', userLastName=None, userEmail=None, userTelephone=None, userStreet=None, userHouseNumber=None, userZipCode=None, userCity=None, userCountry=None, bikeBrand=None, bikeModel=None, bikeRrp=None, bikeAccessories=None, bikeFrameNumber=None, contractStartDate=None, contractAmount=None, pickDate=None, bikeSize=None, bikeId=None, contractSettlementPrice=None, contractSettlementDate=None, status=None, pickUpLogistics=<PickUpLogistics.Emons: 'Emons'>, statusComment=None, contractNumber=None, pickUpFeedback=None, bikeAdditionalText=None, bikeBatteryNumber=None, bikeColor=None, bikeKind=None, bikeModelYear=None, bikeOriginalPurchasePrice=None, bikeOriginalPurchasePriceNet=None, bikeUser=None, contractAttachment=None, contractCommunicationError=None, contractConditionBasedReduction=None, contractDeliveryInformation=None, contractPartsBasedReduction=None, contractPartsMissing=None, contractSentToLogistics=None, contractStateChangedDate=None, contractSubmitDate=None, pickContractReceived=None, pickEarliest=None, pickTimeFrom=None, pickTimeTill=None, pickUpOkay=None, userCompany=None, userDeviatingPickup=None, userDeviatingPickupAddress=None, userFederalState=None, userFunction=None, userGender=None, userMobilePhone=None, bikeType=None)"
      ]
     },
     "execution_count": 67,
     "metadata": {},
     "output_type": "execute_result"
    }
   ],
   "source": [
    "current_user = User(username='med', email='email@email.com', role='admin', name='med', disabled='True')\n",
    "new_contract = FormsToUpdate(processIds=[1,2,3], userFirstName='med', pickUpLogistics= 'Emons')\n",
    "new_contract \n"
   ]
  },
  {
   "cell_type": "code",
   "execution_count": 76,
   "metadata": {},
   "outputs": [
    {
     "data": {
      "text/plain": [
       "{'userFirstName': 'med', 'pickUpLogistics': 'Emons'}"
      ]
     },
     "execution_count": 76,
     "metadata": {},
     "output_type": "execute_result"
    }
   ],
   "source": [
    "keys_to_update = [ k for k,v in new_contract.__dict__.items() if v and k != 'processIds']\n",
    "enums = ['status', 'pickUpLogistics', 'bikeColor', 'contractCommunicationError', 'userGender', 'bikeType']\n",
    "obj = {\n",
    "    k: new_contract.__dict__[k] if k not in enums else new_contract.__dict__[k].value\n",
    "    for k in keys_to_update\n",
    "}\n",
    "obj"
   ]
  },
  {
   "cell_type": "code",
   "execution_count": 75,
   "metadata": {},
   "outputs": [
    {
     "name": "stderr",
     "output_type": "stream",
     "text": [
      "C:\\Users\\mohamed benzarti\\AppData\\Local\\Temp\\ipykernel_11076\\3213987694.py:1: PydanticDeprecatedSince20: The `schema` method is deprecated; use `model_json_schema` instead. Deprecated in Pydantic V2.0 to be removed in V3.0. See Pydantic V2 Migration Guide at https://errors.pydantic.dev/2.4/migration/\n",
      "  current_user.schema()\n"
     ]
    },
    {
     "data": {
      "text/plain": [
       "{'properties': {'username': {'title': 'Username', 'type': 'string'},\n",
       "  'email': {'format': 'email', 'title': 'Email', 'type': 'string'},\n",
       "  'role': {'title': 'Role', 'type': 'string'},\n",
       "  'name': {'anyOf': [{'type': 'string'}, {'type': 'null'}],\n",
       "   'default': None,\n",
       "   'title': 'Name'},\n",
       "  'disabled': {'anyOf': [{'type': 'boolean'}, {'type': 'null'}],\n",
       "   'default': None,\n",
       "   'title': 'Disabled'}},\n",
       " 'required': ['username', 'email', 'role'],\n",
       " 'title': 'User',\n",
       " 'type': 'object'}"
      ]
     },
     "execution_count": 75,
     "metadata": {},
     "output_type": "execute_result"
    }
   ],
   "source": [
    "current_user.__dict__[k]"
   ]
  },
  {
   "cell_type": "code",
   "execution_count": null,
   "metadata": {},
   "outputs": [],
   "source": [
    "obj = {\n",
    "        'submittingUser' : current_user.username,\n",
    "        'userFirstName' : new_contract.userFirstName,\n",
    "        'userLastName' : new_contract.userLastName,\n",
    "        'userEmail' : new_contract.userEmail,\n",
    "        'userTelephone' : new_contract.userTelephone,\n",
    "        'userStreet' : new_contract.userStreet,\n",
    "        'userHouseNumber' : new_contract.userHouseNumber,\n",
    "        'userZipCode' : new_contract.userZipCode,\n",
    "        'userCity' : new_contract.userCity,\n",
    "        'userCountry' : new_contract.userCountry,\n",
    "        'bikeBrand' : new_contract.bikeBrand,\n",
    "        'bikeModel' : new_contract.bikeModel,\n",
    "        'bikeRrp' : new_contract.bikeRrp,\n",
    "        'bikeAccessories' : new_contract.bikeAccessories,\n",
    "        'bikeFrameNumber' : new_contract.bikeFrameNumber,\n",
    "        'contractStartDate' : new_contract.contractStartDate,\n",
    "        'contractAmount' : new_contract.contractAmount,\n",
    "        'pickDate' : new_contract.pickDate,\n",
    "        'bikeSize' : new_contract.bikeSize,\n",
    "        'bikeId' : new_contract.bikeId,\n",
    "        'contractSettlementPrice' : new_contract.contractSettlementPrice,\n",
    "        'contractSettlementDate' : new_contract.contractSettlementDate,\n",
    "        'status' : new_contract.status.value,\n",
    "        'pickUpLogistics' : new_contract.pickUpLogistics.value,\n",
    "        'statusComment' : new_contract.statusComment,\n",
    "        'contractNumber' : new_contract.contractNumber,\n",
    "        'pickUpFeedback' : new_contract.pickUpFeedback,\n",
    "        'bikeAdditionalText' : new_contract.bikeAdditionalText,\n",
    "        'bikeBatteryNumber' : new_contract.bikeBatteryNumber,\n",
    "        'bikeColor' : new_contract.bikeColor.value,\n",
    "        'bikeKind' : new_contract.bikeKind,\n",
    "        'bikeModelYear' : new_contract.bikeModelYear,\n",
    "        'bikeOriginalPurchasePrice' : new_contract.bikeOriginalPurchasePrice,\n",
    "        'bikeOriginalPurchasePriceNet' : new_contract.bikeOriginalPurchasePriceNet,\n",
    "        'bikeUser' : new_contract.bikeUser,\n",
    "        'contractAttachment' : new_contract.contractAttachment,\n",
    "        'contractCommunicationError' : new_contract.contractCommunicationError.value,\n",
    "        'contractConditionBasedReduction' : new_contract.contractConditionBasedReduction,\n",
    "        'contractDeliveryInformation' : new_contract.contractDeliveryInformation,\n",
    "        'contractPartsBasedReduction' : new_contract.contractPartsBasedReduction,\n",
    "        'contractPartsMissing' : new_contract.contractPartsMissing,\n",
    "        'contractSentToLogistics' : new_contract.contractSentToLogistics,\n",
    "        'contractStateChangedDate' : new_contract.contractStateChangedDate,\n",
    "        'contractSubmitDate' : new_contract.contractSubmitDate,\n",
    "        'pickContractReceived' : new_contract.pickContractReceived,\n",
    "        'pickEarliest' : new_contract.pickEarliest,\n",
    "        'pickTimeFrom' : new_contract.pickTimeFrom,\n",
    "        'pickTimeTill' : new_contract.pickTimeTill,\n",
    "        'pickUpOkay' : new_contract.pickUpOkay,\n",
    "        'userCompany' : new_contract.userCompany,\n",
    "        'userDeviatingPickup' : new_contract.userDeviatingPickup,\n",
    "        'userDeviatingPickupAddress' : new_contract.userDeviatingPickupAddress,\n",
    "        'userFederalState' : new_contract.userFederalState,\n",
    "        'userFunction' : new_contract.userFunction,\n",
    "        'userGender' : new_contract.userGender.value,\n",
    "        'userMobilePhone' : new_contract.userMobilePhone,\n",
    "        'bikeType' : new_contract.bikeType.value\n",
    "    }"
   ]
  }
 ],
 "metadata": {
  "kernelspec": {
   "display_name": "Python 3",
   "language": "python",
   "name": "python3"
  },
  "language_info": {
   "codemirror_mode": {
    "name": "ipython",
    "version": 3
   },
   "file_extension": ".py",
   "mimetype": "text/x-python",
   "name": "python",
   "nbconvert_exporter": "python",
   "pygments_lexer": "ipython3",
   "version": "3.10.5"
  },
  "orig_nbformat": 4
 },
 "nbformat": 4,
 "nbformat_minor": 2
}
