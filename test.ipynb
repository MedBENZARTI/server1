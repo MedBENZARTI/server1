{
 "cells": [
  {
   "cell_type": "code",
   "execution_count": 1,
   "metadata": {},
   "outputs": [],
   "source": [
    "from datetime import datetime, timedelta, date\n",
    "from typing import Annotated, Union\n",
    "\n",
    "from fastapi import Depends, FastAPI, HTTPException, status\n",
    "from fastapi.security import OAuth2PasswordBearer, OAuth2PasswordRequestForm\n",
    "from passlib.context import CryptContext\n",
    "from pydantic import BaseModel, EmailStr\n",
    "from enum import Enum\n",
    "import psycopg2\n",
    "import pandas as pd"
   ]
  },
  {
   "cell_type": "code",
   "execution_count": 5,
   "metadata": {},
   "outputs": [],
   "source": [
    "DB_CON = {\n",
    "        \"host\"      : 'rds-ticket-app-prod.czgosi3nm3l7.eu-central-1.rds.amazonaws.com',\n",
    "        \"database\"  : 'public',\n",
    "        \"user\"      : 'ticketappuser',\n",
    "        \"password\"  : 'GA8yDbApaTthvqgH16V0jg==',\n",
    "        'port'      : '5432'\n",
    "    }\n",
    "\n",
    "def format_value_for_sql(value):\n",
    "    if value is None:\n",
    "        return \"NULL\"\n",
    "    elif isinstance(value, int):\n",
    "        return str(value)\n",
    "    elif isinstance(value, float):\n",
    "        return str(value)\n",
    "    elif isinstance(value, bool):\n",
    "        return str(int(value))  # Convert bool to 0 or 1\n",
    "    else:\n",
    "        # If the data type is not recognized, raise an error or handle it accordingly\n",
    "        return f\"\"\"'{str(value).replace(\"'\", \"''\")}'\"\"\"\n",
    "\n",
    "def read_data(sql):\n",
    "    conn = psycopg2.connect(**DB_CON)\n",
    "    cur = conn.cursor()\n",
    "    cur.execute(sql)\n",
    "    rows = cur.fetchall()\n",
    "    cols = [str(col[0]) for col in cur.description ]\n",
    "    conn.close()\n",
    "    return pd.DataFrame(rows, columns=cols).to_dict('records')"
   ]
  },
  {
   "cell_type": "code",
   "execution_count": 7,
   "metadata": {},
   "outputs": [
    {
     "data": {
      "text/plain": [
       "{'tmiraa': {'id': 1,\n",
       "  'username': 'tmiraa',\n",
       "  'email': 'user@example.com',\n",
       "  'password': '$2b$12$pK4cDTMaePf49RtkEPZpVOMOIu88YfCDOwmC0LxBQo7/ZD1N2FCzu',\n",
       "  'role': 'admin',\n",
       "  'name': 'string',\n",
       "  'disabled': True},\n",
       " 'tmiraaa': {'id': 2,\n",
       "  'username': 'tmiraaa',\n",
       "  'email': 'user@example.com',\n",
       "  'password': '$2b$12$hq.Hz0GidoFeLqEFBvA7VO3Eyjo9CI0W8csCLbV0bsM7BS79Zgem2',\n",
       "  'role': 'admin',\n",
       "  'name': 'string',\n",
       "  'disabled': True}}"
      ]
     },
     "execution_count": 7,
     "metadata": {},
     "output_type": "execute_result"
    }
   ],
   "source": [
    "sql = \"\"\"select * from users\"\"\"\n",
    "d = read_data(sql)\n",
    "d = {o['username']:o for o in d}\n",
    "d"
   ]
  }
 ],
 "metadata": {
  "kernelspec": {
   "display_name": "Python 3",
   "language": "python",
   "name": "python3"
  },
  "language_info": {
   "codemirror_mode": {
    "name": "ipython",
    "version": 3
   },
   "file_extension": ".py",
   "mimetype": "text/x-python",
   "name": "python",
   "nbconvert_exporter": "python",
   "pygments_lexer": "ipython3",
   "version": "3.10.5"
  },
  "orig_nbformat": 4
 },
 "nbformat": 4,
 "nbformat_minor": 2
}
